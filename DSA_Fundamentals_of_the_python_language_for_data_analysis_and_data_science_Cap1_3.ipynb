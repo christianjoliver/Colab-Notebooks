{
  "nbformat": 4,
  "nbformat_minor": 0,
  "metadata": {
    "colab": {
      "provenance": [],
      "authorship_tag": "ABX9TyNb2bG/Nns0/SrpGf/FHfAr",
      "include_colab_link": true
    },
    "kernelspec": {
      "name": "python3",
      "display_name": "Python 3"
    },
    "language_info": {
      "name": "python"
    }
  },
  "cells": [
    {
      "cell_type": "markdown",
      "metadata": {
        "id": "view-in-github",
        "colab_type": "text"
      },
      "source": [
        "<a href=\"https://colab.research.google.com/github/christianjoliver/Colab-Notebooks/blob/main/DSA_Fundamentals_of_the_python_language_for_data_analysis_and_data_science_Cap1_3.ipynb\" target=\"_parent\"><img src=\"https://colab.research.google.com/assets/colab-badge.svg\" alt=\"Open In Colab\"/></a>"
      ]
    },
    {
      "cell_type": "markdown",
      "source": [
        "#Parte introdutória do curso (Relembrando Python)\n",
        "\n"
      ],
      "metadata": {
        "id": "fLAvwaaAC9J9"
      }
    },
    {
      "cell_type": "markdown",
      "source": [
        "##Calculando área do paralelogramo"
      ],
      "metadata": {
        "id": "XiMLxC_qEnd6"
      }
    },
    {
      "cell_type": "markdown",
      "source": [
        "1. Imprima \"Calculadora área do Paralelogramo\"\n",
        "2. Leia e armazene do usuário o comprimento da base\n",
        "3. Leia e armazene do usuário o comprimento da altura\n",
        "4. Imprima o cálculo da área do paralelogramo"
      ],
      "metadata": {
        "id": "HCaog6KHE2F8"
      }
    },
    {
      "cell_type": "code",
      "execution_count": null,
      "metadata": {
        "colab": {
          "base_uri": "https://localhost:8080/"
        },
        "id": "k9wUNN2C8f4W",
        "outputId": "90ff17d5-4c55-4336-92d8-49f3ddc7f22d"
      },
      "outputs": [
        {
          "output_type": "stream",
          "name": "stdout",
          "text": [
            "Calculadora área do Paralelogramo\n",
            "Digite o comprimento da base: 2\n",
            "Digite o comprimento da altura: 4\n",
            "A área do paralelogramo é:  8\n"
          ]
        }
      ],
      "source": [
        "print(\"Calculadora área do Paralelogramo\")\n",
        "base = float(input(\"Digite o comprimento da base: \"))\n",
        "altura = float(input(\"Digite o comprimento da altura: \"))\n",
        "print(\"A área do paralelogramo é: \", base*altura)"
      ]
    },
    {
      "cell_type": "markdown",
      "source": [
        "## Calculadora simples"
      ],
      "metadata": {
        "id": "MedMzi63ElSw"
      }
    },
    {
      "cell_type": "markdown",
      "source": [
        "Início\n",
        "1. Imprima \"Calculadora Simples\"\n",
        "2. Leia e armazene do usuário o valor do primeiro número\n",
        "3. Leia e armazene do usuário o valor do segundo número\n",
        "4. Leia o sinal referente à operação que o usuário deseja realizar entre esses dois números\n",
        "5. Imprima o resultado da operação entre os dois números\n",
        "\n",
        "Fim"
      ],
      "metadata": {
        "id": "7EUNNfXVFbLn"
      }
    },
    {
      "cell_type": "code",
      "source": [
        "print(\"Calculadora Simples\")\n",
        "n1 = float(input(\"Digite o Primeiro Número: \"))\n",
        "n2 = float(input(\"Digite o Segundo Número: \"))\n",
        "op = input(\"Digite a operação (+, -, /, *): \")\n",
        "\n",
        "if op == \"+\":\n",
        "    result = n1 + n2\n",
        "elif op == \"-\" :\n",
        "    result = n1 + n2\n",
        "elif op == \"*\":\n",
        "    result = n1*n2\n",
        "elif op == \"/\":\n",
        "    result = n1/n2\n",
        "\n",
        "print(\"O resultado é: \", result)"
      ],
      "metadata": {
        "colab": {
          "base_uri": "https://localhost:8080/"
        },
        "id": "ggKd5QRrEPr3",
        "outputId": "91dfb911-3709-4717-e78c-74a695b6c157"
      },
      "execution_count": null,
      "outputs": [
        {
          "output_type": "stream",
          "name": "stdout",
          "text": [
            "Calculadora Simples\n",
            "Digite o Primeiro Número: 2\n",
            "Digite o Segundo Número: 2\n",
            "Digite a operação (+, -, /, *): +\n",
            "O resultado é:  4.0\n"
          ]
        }
      ]
    },
    {
      "cell_type": "markdown",
      "source": [
        "## Bubble Sort"
      ],
      "metadata": {
        "id": "RK7CtJXgKCdr"
      }
    },
    {
      "cell_type": "markdown",
      "source": [
        "Inicio\n",
        "\n",
        "    Para cada elemento i do array de tamanho n\n",
        "        Para cada elemento j do array de tamanho n-1\n",
        "            Se i > j:\n",
        "                troque i com j\n",
        "\n",
        "Fim"
      ],
      "metadata": {
        "id": "gmlktebOOZeC"
      }
    },
    {
      "cell_type": "code",
      "source": [
        "import random\n",
        "\n",
        "tam = 10\n",
        "\n",
        "# Gerando lista com números aleatórios num intervalo de 1 a 10\n",
        "lst_num = [random.randint(1, 10) for i in range(tam)]\n",
        "\n",
        "print(lst_num)\n",
        "\n",
        "for i in range(tam):\n",
        "    for j in range(tam-i-1):\n",
        "        if lst_num[j] > lst_num[j+1]:\n",
        "            lst_num[j], lst_num[j+1] = lst_num[j+1], lst_num[j]\n",
        "\n",
        "print(lst_num)"
      ],
      "metadata": {
        "colab": {
          "base_uri": "https://localhost:8080/"
        },
        "id": "y0BXc74jKFh1",
        "outputId": "b3ab86a7-8aa1-4ff1-bc57-9de948ba29e4"
      },
      "execution_count": null,
      "outputs": [
        {
          "output_type": "stream",
          "name": "stdout",
          "text": [
            "[8, 4, 6, 7, 1, 9, 7, 9, 4, 10]\n",
            "[1, 4, 4, 6, 7, 7, 8, 9, 9, 10]\n"
          ]
        }
      ]
    },
    {
      "cell_type": "code",
      "source": [],
      "metadata": {
        "id": "7fNfzC0rNqXo"
      },
      "execution_count": null,
      "outputs": []
    }
  ]
}