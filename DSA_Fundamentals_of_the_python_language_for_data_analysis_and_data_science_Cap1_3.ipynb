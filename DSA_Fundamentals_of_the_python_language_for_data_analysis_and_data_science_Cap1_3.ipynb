{
  "cells": [
    {
      "cell_type": "markdown",
      "metadata": {
        "id": "view-in-github",
        "colab_type": "text"
      },
      "source": [
        "<a href=\"https://colab.research.google.com/github/christianjoliver/Colab-Notebooks/blob/main/DSA_Fundamentals_of_the_python_language_for_data_analysis_and_data_science_Cap1_3.ipynb\" target=\"_parent\"><img src=\"https://colab.research.google.com/assets/colab-badge.svg\" alt=\"Open In Colab\"/></a>"
      ]
    },
    {
      "cell_type": "markdown",
      "metadata": {
        "id": "fLAvwaaAC9J9"
      },
      "source": [
        "#Parte introdutória do curso (Relembrando Python)\n",
        "\n"
      ]
    },
    {
      "cell_type": "markdown",
      "metadata": {
        "id": "XiMLxC_qEnd6"
      },
      "source": [
        "##Calculando área do paralelogramo"
      ]
    },
    {
      "cell_type": "markdown",
      "metadata": {
        "id": "HCaog6KHE2F8"
      },
      "source": [
        "1. Imprima \"Calculadora área do Paralelogramo\"\n",
        "2. Leia e armazene do usuário o comprimento da base\n",
        "3. Leia e armazene do usuário o comprimento da altura\n",
        "4. Imprima o cálculo da área do paralelogramo"
      ]
    },
    {
      "cell_type": "code",
      "execution_count": 63,
      "metadata": {
        "colab": {
          "base_uri": "https://localhost:8080/"
        },
        "id": "k9wUNN2C8f4W",
        "outputId": "65fd522f-5a1e-41bc-9aac-982ee00b8fa6"
      },
      "outputs": [
        {
          "output_type": "stream",
          "name": "stdout",
          "text": [
            "Calculadora área do Paralelogramo\n",
            "Digite o comprimento da base: 4\n",
            "Digite o comprimento da altura: 4\n",
            "A área do paralelogramo é:  16.0\n"
          ]
        }
      ],
      "source": [
        "print(\"Calculadora área do Paralelogramo\")\n",
        "base = float(input(\"Digite o comprimento da base: \"))\n",
        "altura = float(input(\"Digite o comprimento da altura: \"))\n",
        "print(\"A área do paralelogramo é: \", base*altura)"
      ]
    },
    {
      "cell_type": "markdown",
      "metadata": {
        "id": "MedMzi63ElSw"
      },
      "source": [
        "## Calculadora simples"
      ]
    },
    {
      "cell_type": "markdown",
      "metadata": {
        "id": "7EUNNfXVFbLn"
      },
      "source": [
        "Início\n",
        "1. Imprima \"Calculadora Simples\"\n",
        "2. Leia e armazene do usuário o valor do primeiro número\n",
        "3. Leia e armazene do usuário o valor do segundo número\n",
        "4. Leia o sinal referente à operação que o usuário deseja realizar entre esses dois números\n",
        "5. Imprima o resultado da operação entre os dois números\n",
        "\n",
        "Fim"
      ]
    },
    {
      "cell_type": "code",
      "execution_count": 99,
      "metadata": {
        "colab": {
          "base_uri": "https://localhost:8080/"
        },
        "id": "ggKd5QRrEPr3",
        "outputId": "e7a46c5c-bcf1-496d-d964-5c3cdaa92452"
      },
      "outputs": [
        {
          "output_type": "stream",
          "name": "stdout",
          "text": [
            "Calculadora Simples\n",
            "Digite o Primeiro Número: 1\n",
            "Digite o Segundo Número: 1\n",
            "Digite a operação (+, -, /, *): -\n",
            "O resultado é:  0.0\n"
          ]
        }
      ],
      "source": [
        "print(\"Calculadora Simples\")\n",
        "n1 = float(input(\"Digite o Primeiro Número: \"))\n",
        "n2 = float(input(\"Digite o Segundo Número: \"))\n",
        "op = input(\"Digite a operação (+, -, /, *): \")\n",
        "\n",
        "if op == \"+\":\n",
        "    result = n1 + n2\n",
        "elif op == \"-\" :\n",
        "    result = n1 - n2\n",
        "elif op == \"*\":\n",
        "    result = n1*n2\n",
        "elif op == \"/\":\n",
        "    result = n1/n2\n",
        "\n",
        "print(\"O resultado é: \", result)"
      ]
    },
    {
      "cell_type": "markdown",
      "metadata": {
        "id": "RK7CtJXgKCdr"
      },
      "source": [
        "## Bubble Sort"
      ]
    },
    {
      "cell_type": "markdown",
      "metadata": {
        "id": "gmlktebOOZeC"
      },
      "source": [
        "Inicio\n",
        "\n",
        "    Para cada elemento i do array de tamanho n\n",
        "        Para cada elemento j do array de tamanho n-1\n",
        "            Se i > j:\n",
        "                troque i com j\n",
        "\n",
        "Fim"
      ]
    },
    {
      "cell_type": "code",
      "execution_count": 100,
      "metadata": {
        "colab": {
          "base_uri": "https://localhost:8080/"
        },
        "id": "y0BXc74jKFh1",
        "outputId": "ac5ff915-0493-4b67-9922-6f841d10b2f4"
      },
      "outputs": [
        {
          "output_type": "stream",
          "name": "stdout",
          "text": [
            "[5, 10, 5, 5, 1, 2, 5, 2, 9, 7]\n",
            "[1, 2, 2, 5, 5, 5, 5, 7, 9, 10]\n"
          ]
        }
      ],
      "source": [
        "import random\n",
        "\n",
        "tam = 10\n",
        "\n",
        "# Gerando lista com números aleatórios num intervalo de 1 a 10\n",
        "lst_num = [random.randint(1, 10) for i in range(tam)]\n",
        "print(lst_num)\n",
        "\n",
        "# Funcao que executa o algoritmo BubbleSort\n",
        "def BubbleSort(arr):\n",
        "    for i in range(len(arr)):\n",
        "        for j in range(len(arr)-i-1):\n",
        "            if lst_num[j] > lst_num[j+1]:\n",
        "                lst_num[j], lst_num[j+1] = lst_num[j+1], lst_num[j]\n",
        "    return arr\n",
        "\n",
        "print(BubbleSort(lst_num))"
      ]
    },
    {
      "cell_type": "markdown",
      "metadata": {
        "id": "O9AklSDrwTIl"
      },
      "source": [
        "## Relembrando strings, listas, dicionários, tuplas e propriedades"
      ]
    },
    {
      "cell_type": "markdown",
      "metadata": {
        "id": "J7CHnegCysih"
      },
      "source": [
        "### Strings"
      ]
    },
    {
      "cell_type": "code",
      "execution_count": 101,
      "metadata": {
        "colab": {
          "base_uri": "https://localhost:8080/"
        },
        "id": "B-EMdEZdwSEy",
        "outputId": "5ab301d2-218e-4801-d6aa-ddb01909d238"
      },
      "outputs": [
        {
          "output_type": "stream",
          "name": "stdout",
          "text": [
            "Aprender Python é Bacana\n"
          ]
        }
      ],
      "source": [
        "#indexação de strings\n",
        "\n",
        "s = \"Aprender Python é Bacana\"\n",
        "print(s)"
      ]
    },
    {
      "cell_type": "code",
      "execution_count": 102,
      "metadata": {
        "colab": {
          "base_uri": "https://localhost:8080/"
        },
        "id": "dnTXykwdwsfS",
        "outputId": "86b71119-911e-41d1-f0c5-bfc75cd92389"
      },
      "outputs": [
        {
          "output_type": "stream",
          "name": "stdout",
          "text": [
            "Apr\n"
          ]
        }
      ],
      "source": [
        "print(s[:3]) #imprimindo sequência de caracteres até o index 3"
      ]
    },
    {
      "cell_type": "code",
      "execution_count": 103,
      "metadata": {
        "colab": {
          "base_uri": "https://localhost:8080/"
        },
        "id": "clx52CKkwxbK",
        "outputId": "ab36f175-b7fa-4a04-e937-e420c5ab26bc"
      },
      "outputs": [
        {
          "output_type": "stream",
          "name": "stdout",
          "text": [
            "Aprender Python é Bacan\n"
          ]
        }
      ],
      "source": [
        "print(s[:-1]) #imprimindo caracteres até o index -1, ou seja o último caractere"
      ]
    },
    {
      "cell_type": "code",
      "execution_count": 104,
      "metadata": {
        "colab": {
          "base_uri": "https://localhost:8080/"
        },
        "id": "sCxNq-A9w3Ca",
        "outputId": "8e56fce3-32b4-4627-e1ef-510ea82b04d0"
      },
      "outputs": [
        {
          "output_type": "stream",
          "name": "stdout",
          "text": [
            "AeePh Ba\n"
          ]
        }
      ],
      "source": [
        "print(s[::3]) #imprime 1 salta 2"
      ]
    },
    {
      "cell_type": "code",
      "execution_count": 105,
      "metadata": {
        "colab": {
          "base_uri": "https://localhost:8080/"
        },
        "id": "buxqP-28xLMp",
        "outputId": "069abb73-a532-4774-e648-5aeb089ea1c2"
      },
      "outputs": [
        {
          "output_type": "stream",
          "name": "stdout",
          "text": [
            "anacaB é nohtyP rednerpA\n"
          ]
        }
      ],
      "source": [
        "print(s[::-1]) #inverte a sequência de caracteres"
      ]
    },
    {
      "cell_type": "code",
      "execution_count": 106,
      "metadata": {
        "colab": {
          "base_uri": "https://localhost:8080/"
        },
        "id": "kpt7vB8vxZJb",
        "outputId": "e3cdfce5-46bb-494e-a3d1-dda9efba3130"
      },
      "outputs": [
        {
          "output_type": "stream",
          "name": "stdout",
          "text": [
            "nder Python é Bacana\n"
          ]
        }
      ],
      "source": [
        "print(s[4:]) #do quarto caractere pra frente"
      ]
    },
    {
      "cell_type": "markdown",
      "metadata": {
        "id": "7i7bHhQIyvLv"
      },
      "source": [
        "### Listas"
      ]
    },
    {
      "cell_type": "code",
      "execution_count": 107,
      "metadata": {
        "colab": {
          "base_uri": "https://localhost:8080/"
        },
        "id": "asM8i35MywlR",
        "outputId": "aa8bb486-ce6a-4ece-d368-cae73b60291f"
      },
      "outputs": [
        {
          "output_type": "execute_result",
          "data": {
            "text/plain": [
              "['Cientista de Dados', 'Engenheiro de Dados']"
            ]
          },
          "metadata": {},
          "execution_count": 107
        }
      ],
      "source": [
        "lista = [\"Cientista de Dados\", \"Engenheiro de Dados\"]\n",
        "lista"
      ]
    },
    {
      "cell_type": "code",
      "execution_count": 108,
      "metadata": {
        "colab": {
          "base_uri": "https://localhost:8080/"
        },
        "id": "UytqNjIUy5Q2",
        "outputId": "29e860ed-60f2-4e38-d261-d6fc02a06d67"
      },
      "outputs": [
        {
          "output_type": "execute_result",
          "data": {
            "text/plain": [
              "['Cientista de Dados', 'Engenheiro de Dados', 'Analista de Dados']"
            ]
          },
          "metadata": {},
          "execution_count": 108
        }
      ],
      "source": [
        "lista.append(\"Analista de Dados\") #inserindo elementos em uma lista criada\n",
        "lista"
      ]
    },
    {
      "cell_type": "code",
      "execution_count": 109,
      "metadata": {
        "colab": {
          "base_uri": "https://localhost:8080/"
        },
        "id": "4R3fA5cXzBQO",
        "outputId": "df4ffba1-f554-4548-e928-10b1cd465524"
      },
      "outputs": [
        {
          "output_type": "stream",
          "name": "stdout",
          "text": [
            "['Banana', 'Maçã', 'Jabuticaba', 'Pêra']\n",
            "['Banana', 'Maçã', 'Jabuticaba', 'Pêra', 'Jaca']\n",
            "['Banana', 'Jabuticaba', 'Pêra']\n"
          ]
        }
      ],
      "source": [
        "# Copiando elementos de uma lista na outra\n",
        "\n",
        "lst1 = [\"Banana\", \"Maçã\", \"Jabuticaba\", \"Pêra\"]\n",
        "lst2 = []\n",
        "\n",
        "for item in lst1:\n",
        "    lst2.append(item)\n",
        "\n",
        "print(lst2)\n",
        "\n",
        "lst2.append(\"Jaca\") #acrescentando \"Jaca\" na lista 2\n",
        "del lst1[1] #removendo Maçã da lista 1\n",
        "\n",
        "print(lst2)\n",
        "print(lst1)"
      ]
    },
    {
      "cell_type": "code",
      "execution_count": 110,
      "metadata": {
        "colab": {
          "base_uri": "https://localhost:8080/"
        },
        "id": "3og-ePPI0D7q",
        "outputId": "4af80dca-96e3-422b-a8bb-96ab90318a82"
      },
      "outputs": [
        {
          "output_type": "stream",
          "name": "stdout",
          "text": [
            "['Banana', 'Maçã', 'Jabuticaba', 'Pêra', 'Jaca', 'Kiwi', 'Jamelão']\n"
          ]
        }
      ],
      "source": [
        "# Inserindo vários elementos de uma só vez na lista\n",
        "\n",
        "lst2.extend([\"Kiwi\", \"Jamelão\"])\n",
        "print(lst2)"
      ]
    },
    {
      "cell_type": "code",
      "execution_count": 111,
      "metadata": {
        "colab": {
          "base_uri": "https://localhost:8080/"
        },
        "id": "gOkR6IbH0wrk",
        "outputId": "cd85ee5b-9029-4747-d6fa-d33684086c06"
      },
      "outputs": [
        {
          "output_type": "execute_result",
          "data": {
            "text/plain": [
              "3"
            ]
          },
          "metadata": {},
          "execution_count": 111
        }
      ],
      "source": [
        "# Podemos também recuperar o índice referente a cada um dos elementos\n",
        "\n",
        "teste = lst2.index(\"Pêra\")\n",
        "teste"
      ]
    },
    {
      "cell_type": "code",
      "execution_count": 112,
      "metadata": {
        "colab": {
          "base_uri": "https://localhost:8080/"
        },
        "id": "FE_5xMFY1V8t",
        "outputId": "100d7cd0-b8c3-4615-9fdc-ee5050313d0e"
      },
      "outputs": [
        {
          "output_type": "execute_result",
          "data": {
            "text/plain": [
              "['Banana', 'Maçã', 'Abacaxi', 'Jabuticaba', 'Pêra', 'Jaca', 'Kiwi', 'Jamelão']"
            ]
          },
          "metadata": {},
          "execution_count": 112
        }
      ],
      "source": [
        "# Podemos também inserir um elemento numa posição específica, assim \"empurrando os elementos à frente\"\n",
        "\n",
        "lst2.insert(2, \"Abacaxi\")\n",
        "lst2"
      ]
    },
    {
      "cell_type": "code",
      "execution_count": 113,
      "metadata": {
        "colab": {
          "base_uri": "https://localhost:8080/"
        },
        "id": "ZVutRBsV2JDu",
        "outputId": "c20cd615-d5d4-439c-c5c0-bda956f4e3f3"
      },
      "outputs": [
        {
          "output_type": "execute_result",
          "data": {
            "text/plain": [
              "['Banana', 'Maçã', 'Jabuticaba', 'Pêra', 'Jaca', 'Kiwi', 'Jamelão']"
            ]
          },
          "metadata": {},
          "execution_count": 113
        }
      ],
      "source": [
        "# Podemos também removê-lo\n",
        "lst2.remove(\"Abacaxi\")\n",
        "lst2"
      ]
    },
    {
      "cell_type": "code",
      "execution_count": 114,
      "metadata": {
        "colab": {
          "base_uri": "https://localhost:8080/"
        },
        "id": "WtS1AykT2ZK9",
        "outputId": "a69499fa-9d49-424f-ea67-2a75324b32b0"
      },
      "outputs": [
        {
          "output_type": "execute_result",
          "data": {
            "text/plain": [
              "['Jamelão', 'Kiwi', 'Jaca', 'Pêra', 'Jabuticaba', 'Maçã', 'Banana']"
            ]
          },
          "metadata": {},
          "execution_count": 114
        }
      ],
      "source": [
        "# Podemos também inverter os elementos da lista\n",
        "lst2.reverse()\n",
        "lst2"
      ]
    },
    {
      "cell_type": "code",
      "source": [
        "# Podemos também ordenar os elementos da lista"
      ],
      "metadata": {
        "id": "ilsVF7ok5g9E"
      },
      "execution_count": 115,
      "outputs": []
    },
    {
      "cell_type": "code",
      "source": [
        "lst2.sort()\n",
        "lst2"
      ],
      "metadata": {
        "colab": {
          "base_uri": "https://localhost:8080/"
        },
        "id": "XuK537IE5qo8",
        "outputId": "bc1d3684-1740-40eb-e517-071fa0b5febd"
      },
      "execution_count": 116,
      "outputs": [
        {
          "output_type": "execute_result",
          "data": {
            "text/plain": [
              "['Banana', 'Jabuticaba', 'Jaca', 'Jamelão', 'Kiwi', 'Maçã', 'Pêra']"
            ]
          },
          "metadata": {},
          "execution_count": 116
        }
      ]
    },
    {
      "cell_type": "markdown",
      "source": [
        "### Dicionários\n",
        "\n",
        "Os dicionários tem uma propriedade específica que \"amarra\" pares \"Chave x Valor\", por exemplo, no caso abaixo conseguimos amarrar a chave \"nome\" com o valor \"idade\""
      ],
      "metadata": {
        "id": "7NvsXNtp6WHT"
      }
    },
    {
      "cell_type": "code",
      "source": [
        "# criando o dicionário\n",
        "estudantes_dic = {\"Ana\": 25, \"Bruno\": 22, \"Carlos\":24, \"Daniel\":30}\n",
        "estudantes_dic"
      ],
      "metadata": {
        "colab": {
          "base_uri": "https://localhost:8080/"
        },
        "id": "EcIRUshz6XSw",
        "outputId": "2c4c10ba-6804-4f2b-ed96-178d567f664b"
      },
      "execution_count": 117,
      "outputs": [
        {
          "output_type": "execute_result",
          "data": {
            "text/plain": [
              "{'Ana': 25, 'Bruno': 22, 'Carlos': 24, 'Daniel': 30}"
            ]
          },
          "metadata": {},
          "execution_count": 117
        }
      ]
    },
    {
      "cell_type": "code",
      "source": [
        "# adicionando elementos ao dicionário\n",
        "estudantes_dic[\"Marcelo\"] = 23\n",
        "estudantes_dic"
      ],
      "metadata": {
        "colab": {
          "base_uri": "https://localhost:8080/"
        },
        "id": "6m7PfpcT6rXB",
        "outputId": "f6918311-3366-4106-db67-4831e268a492"
      },
      "execution_count": 118,
      "outputs": [
        {
          "output_type": "execute_result",
          "data": {
            "text/plain": [
              "{'Ana': 25, 'Bruno': 22, 'Carlos': 24, 'Daniel': 30, 'Marcelo': 23}"
            ]
          },
          "metadata": {},
          "execution_count": 118
        }
      ]
    },
    {
      "cell_type": "code",
      "source": [
        "# com essa sintaxe podemos também atualizar os elementos já existentes\n",
        "estudantes_dic[\"Marcelo\"] = 24\n",
        "estudantes_dic"
      ],
      "metadata": {
        "id": "-65O0-Va8fH9",
        "outputId": "6b2567e0-e6c9-4b88-ef85-cfa303b8b95d",
        "colab": {
          "base_uri": "https://localhost:8080/"
        }
      },
      "execution_count": 119,
      "outputs": [
        {
          "output_type": "execute_result",
          "data": {
            "text/plain": [
              "{'Ana': 25, 'Bruno': 22, 'Carlos': 24, 'Daniel': 30, 'Marcelo': 24}"
            ]
          },
          "metadata": {},
          "execution_count": 119
        }
      ]
    },
    {
      "cell_type": "code",
      "source": [
        "# Podemos também retornar as chaves, os valores e os itens\n",
        "\n",
        "print(estudantes_dic.keys())\n",
        "print(estudantes_dic.values())\n",
        "print(estudantes_dic.items())"
      ],
      "metadata": {
        "id": "-HIobGIr8qH6",
        "outputId": "0079c369-e28f-4be9-af76-48e02985e5f0",
        "colab": {
          "base_uri": "https://localhost:8080/"
        }
      },
      "execution_count": 120,
      "outputs": [
        {
          "output_type": "stream",
          "name": "stdout",
          "text": [
            "dict_keys(['Ana', 'Bruno', 'Carlos', 'Daniel', 'Marcelo'])\n",
            "dict_values([25, 22, 24, 30, 24])\n",
            "dict_items([('Ana', 25), ('Bruno', 22), ('Carlos', 24), ('Daniel', 30), ('Marcelo', 24)])\n"
          ]
        }
      ]
    },
    {
      "cell_type": "code",
      "source": [
        "# Podemos também atualizar um dicionário com outro dicionário\n",
        "estudantes_dic2 = {\"Bárbara\":24, \"Márcio\":22}\n",
        "estudantes_dic.update(estudantes_dic2)\n",
        "estudantes_dic"
      ],
      "metadata": {
        "id": "kVs0REjlFD0X",
        "outputId": "48ff62a0-bd02-42d3-9bcd-a07cad8fa80f",
        "colab": {
          "base_uri": "https://localhost:8080/"
        }
      },
      "execution_count": 121,
      "outputs": [
        {
          "output_type": "execute_result",
          "data": {
            "text/plain": [
              "{'Ana': 25,\n",
              " 'Bruno': 22,\n",
              " 'Carlos': 24,\n",
              " 'Daniel': 30,\n",
              " 'Marcelo': 24,\n",
              " 'Bárbara': 24,\n",
              " 'Márcio': 22}"
            ]
          },
          "metadata": {},
          "execution_count": 121
        }
      ]
    },
    {
      "cell_type": "code",
      "source": [
        "# É possível também aninhar listas dentro de dicionários, por exemplo\n",
        "\n",
        "dados_alunos = {\"Ana\":[\"fem\", 24, 123], \"Bruno\":[\"mas\", 22, 123], \"Carlos\":[\"mas\", 25, 123], \"Daniel\":[\"mas\", 23, 123]}\n",
        "dados_alunos"
      ],
      "metadata": {
        "id": "oD4UwbWeDecB",
        "outputId": "0289b5ed-56f8-4fda-c8f7-2703cea545fc",
        "colab": {
          "base_uri": "https://localhost:8080/"
        }
      },
      "execution_count": 122,
      "outputs": [
        {
          "output_type": "execute_result",
          "data": {
            "text/plain": [
              "{'Ana': ['fem', 24, 123],\n",
              " 'Bruno': ['mas', 22, 123],\n",
              " 'Carlos': ['mas', 25, 123],\n",
              " 'Daniel': ['mas', 23, 123]}"
            ]
          },
          "metadata": {},
          "execution_count": 122
        }
      ]
    },
    {
      "cell_type": "code",
      "source": [
        "# A partir disso, é possível realizar operações mais complexas sob um dicionário\n",
        "# Neste caso, pegamos cada primeiro elemento-valor de cada uma das chaver do dicionário e colocamos em uppercase.\n",
        "\n",
        "for chave, lista_valores in dados_alunos.items():\n",
        "    lista_valores[0] = lista_valores[0].upper()\n",
        "\n",
        "print(dados_alunos)"
      ],
      "metadata": {
        "id": "DuDnNhHVE6QY",
        "outputId": "cda35800-af7e-409f-af10-22754e6f7db7",
        "colab": {
          "base_uri": "https://localhost:8080/"
        }
      },
      "execution_count": 123,
      "outputs": [
        {
          "output_type": "stream",
          "name": "stdout",
          "text": [
            "{'Ana': ['FEM', 24, 123], 'Bruno': ['MAS', 22, 123], 'Carlos': ['MAS', 25, 123], 'Daniel': ['MAS', 23, 123]}\n"
          ]
        }
      ]
    },
    {
      "cell_type": "code",
      "source": [],
      "metadata": {
        "id": "2tZI7wxkHJuG"
      },
      "execution_count": 123,
      "outputs": []
    },
    {
      "cell_type": "markdown",
      "source": [
        "### Tuplas\n",
        "\n",
        "As tuplas são listas imutáveis. Esse objeto não permite nenhum tipo de modificação (inserção, deleção, atualização..)"
      ],
      "metadata": {
        "id": "YB02Iw25H97j"
      }
    },
    {
      "cell_type": "code",
      "source": [
        "tuple1 = (\"Matemática\", 10, \"Geografia\", 8, \"Ciência\", 10)\n",
        "tuple1"
      ],
      "metadata": {
        "id": "-ktSOvllIAaP",
        "outputId": "c5d0d951-1322-4839-e274-55faef8ca6ae",
        "colab": {
          "base_uri": "https://localhost:8080/"
        }
      },
      "execution_count": 124,
      "outputs": [
        {
          "output_type": "execute_result",
          "data": {
            "text/plain": [
              "('Matemática', 10, 'Geografia', 8, 'Ciência', 10)"
            ]
          },
          "metadata": {},
          "execution_count": 124
        }
      ]
    },
    {
      "cell_type": "code",
      "source": [
        "# As tuplas permitem a utilização de fatiamento, indexação e outras funções\n",
        "\n",
        "tuple1[:2]"
      ],
      "metadata": {
        "id": "5w0BFXvCIYgH",
        "outputId": "ffdf8c21-a99c-4e2e-c00b-c20981624d06",
        "colab": {
          "base_uri": "https://localhost:8080/"
        }
      },
      "execution_count": 125,
      "outputs": [
        {
          "output_type": "execute_result",
          "data": {
            "text/plain": [
              "('Matemática', 10)"
            ]
          },
          "metadata": {},
          "execution_count": 125
        }
      ]
    },
    {
      "cell_type": "markdown",
      "source": [
        "## Exercícios referentes aos conteúdos até agora"
      ],
      "metadata": {
        "id": "B5XEPT3pOyMW"
      }
    },
    {
      "cell_type": "markdown",
      "source": [
        "### Exercício 1 - Imprima na tela os números de 1 a 10. Use uma lista para armazenar os números."
      ],
      "metadata": {
        "id": "5StB-M-fS4i3"
      }
    },
    {
      "cell_type": "code",
      "source": [
        "lst_int = list(range(1,11))\n",
        "lst_int"
      ],
      "metadata": {
        "id": "4KQpeg_eS0Jr",
        "outputId": "ab4d159e-29e3-4aff-eab2-6cf8d9e48d67",
        "colab": {
          "base_uri": "https://localhost:8080/"
        }
      },
      "execution_count": 126,
      "outputs": [
        {
          "output_type": "execute_result",
          "data": {
            "text/plain": [
              "[1, 2, 3, 4, 5, 6, 7, 8, 9, 10]"
            ]
          },
          "metadata": {},
          "execution_count": 126
        }
      ]
    },
    {
      "cell_type": "markdown",
      "source": [
        "### Exercício 2 - Crie uma lista de 5 objetos e imprima na tela"
      ],
      "metadata": {
        "id": "RWx9P0P8T2_r"
      }
    },
    {
      "cell_type": "code",
      "source": [
        "lst_obj = [\"Abacaxi\", \"Banana\", \"Caju\", \"Damasco\", \"Kiwi\"]\n",
        "lst_obj"
      ],
      "metadata": {
        "id": "zy3_gWwCTnyr",
        "outputId": "10332b80-aa45-43d9-f372-5f9ce628a5fa",
        "colab": {
          "base_uri": "https://localhost:8080/"
        }
      },
      "execution_count": 127,
      "outputs": [
        {
          "output_type": "execute_result",
          "data": {
            "text/plain": [
              "['Abacaxi', 'Banana', 'Caju', 'Damasco', 'Kiwi']"
            ]
          },
          "metadata": {},
          "execution_count": 127
        }
      ]
    },
    {
      "cell_type": "markdown",
      "source": [
        "### Exercício 3 - Crie duas strings e concatene as duas em uma terceira string"
      ],
      "metadata": {
        "id": "qTS5vg0HUVq1"
      }
    },
    {
      "cell_type": "code",
      "source": [
        "string1 = \"Python\"\n",
        "string2 = \" é muito é massa\"\n",
        "string3 = string1 + string2\n",
        "string3"
      ],
      "metadata": {
        "id": "aFQ0tBMaUahJ",
        "outputId": "3d8c2eaf-e08e-4ee1-82f7-5ce9c686739f",
        "colab": {
          "base_uri": "https://localhost:8080/",
          "height": 0
        }
      },
      "execution_count": 128,
      "outputs": [
        {
          "output_type": "execute_result",
          "data": {
            "text/plain": [
              "'Python é muito é massa'"
            ],
            "application/vnd.google.colaboratory.intrinsic+json": {
              "type": "string"
            }
          },
          "metadata": {},
          "execution_count": 128
        }
      ]
    },
    {
      "cell_type": "markdown",
      "source": [
        "### Exercício 4 - Crie uma tupla com os seguintes elementos: 1, 2, 2, 3, 4, 4, 4, 5 e depois utilize a função count do objeto tupla para verificar quantas vezes o número 4 aparece na tupla"
      ],
      "metadata": {
        "id": "nJHuCJPPUqIy"
      }
    },
    {
      "cell_type": "code",
      "source": [
        "tupla = (1, 2, 2, 3, 4, 4, 4, 5)\n",
        "tupla.count(4)"
      ],
      "metadata": {
        "id": "8NoE_l9jUkNK",
        "outputId": "7445a380-1e21-41ab-b3bc-b64d9705fc88",
        "colab": {
          "base_uri": "https://localhost:8080/"
        }
      },
      "execution_count": 129,
      "outputs": [
        {
          "output_type": "execute_result",
          "data": {
            "text/plain": [
              "3"
            ]
          },
          "metadata": {},
          "execution_count": 129
        }
      ]
    },
    {
      "cell_type": "markdown",
      "source": [
        "### Exercício 5 - Crie um dicionário vazio e imprima na tela"
      ],
      "metadata": {
        "id": "AW6xUJFuVML2"
      }
    },
    {
      "cell_type": "code",
      "source": [
        "dic1 = {}\n",
        "dic1"
      ],
      "metadata": {
        "id": "a9ofD5YJU4vq",
        "outputId": "9c066797-0f80-46e1-e07d-3b59d1388b67",
        "colab": {
          "base_uri": "https://localhost:8080/"
        }
      },
      "execution_count": 130,
      "outputs": [
        {
          "output_type": "execute_result",
          "data": {
            "text/plain": [
              "{}"
            ]
          },
          "metadata": {},
          "execution_count": 130
        }
      ]
    },
    {
      "cell_type": "markdown",
      "source": [
        "### Exercício 6 - Crie um dicionário com 3 chaves e 3 valores e imprima na tela"
      ],
      "metadata": {
        "id": "DaoC9el6VXcE"
      }
    },
    {
      "cell_type": "code",
      "source": [
        "dic2 = {\"Ana\":10, \"Breno\":11, \"Carlos\":12}\n",
        "dic2"
      ],
      "metadata": {
        "id": "ktD7UtwEVYky",
        "outputId": "7183a53f-7726-4608-b91a-0e61f4d9de51",
        "colab": {
          "base_uri": "https://localhost:8080/"
        }
      },
      "execution_count": 131,
      "outputs": [
        {
          "output_type": "execute_result",
          "data": {
            "text/plain": [
              "{'Ana': 10, 'Breno': 11, 'Carlos': 12}"
            ]
          },
          "metadata": {},
          "execution_count": 131
        }
      ]
    },
    {
      "cell_type": "markdown",
      "source": [
        "### Exercício 7 - Adicione mais um elemento ao dicionário criado no exercício anterior e imprima na tela"
      ],
      "metadata": {
        "id": "LzXINaOxVnrv"
      }
    },
    {
      "cell_type": "code",
      "source": [
        "dic2[\"Daniel\"]=13\n",
        "dic2"
      ],
      "metadata": {
        "id": "0DiXRcGTVpaB",
        "outputId": "b43b4d37-f96b-47d7-9722-3e0dcb40ce6a",
        "colab": {
          "base_uri": "https://localhost:8080/"
        }
      },
      "execution_count": 132,
      "outputs": [
        {
          "output_type": "execute_result",
          "data": {
            "text/plain": [
              "{'Ana': 10, 'Breno': 11, 'Carlos': 12, 'Daniel': 13}"
            ]
          },
          "metadata": {},
          "execution_count": 132
        }
      ]
    },
    {
      "cell_type": "markdown",
      "source": [
        "### Exercício 8 - Crie um dicionário com 3 chaves e 3 valores. Um dos valores deve ser uma lista de 2 elementos numéricos. Imprima o dicionário na tela."
      ],
      "metadata": {
        "id": "35jMgKqbVzXV"
      }
    },
    {
      "cell_type": "code",
      "source": [
        "dic3 = {\"Ana\":[10, 10.4], \"Breno\":11, \"Carlos\":12}\n",
        "dic3"
      ],
      "metadata": {
        "id": "ffKoEbjHWVlp",
        "outputId": "fbd27293-61dd-4eae-d8da-bf5c8f68f70e",
        "colab": {
          "base_uri": "https://localhost:8080/"
        }
      },
      "execution_count": 133,
      "outputs": [
        {
          "output_type": "execute_result",
          "data": {
            "text/plain": [
              "{'Ana': [10, 10.4], 'Breno': 11, 'Carlos': 12}"
            ]
          },
          "metadata": {},
          "execution_count": 133
        }
      ]
    },
    {
      "cell_type": "markdown",
      "source": [
        "### Exercício 9 - Crie uma lista de 4 elementos. O primeiro elemento deve ser uma string, o segundo uma tupla de 2 elementos, o terceiro um dicionário com 2 chaves e 2 valores e o quarto elemento um valor do tipo float. Imprima a lista."
      ],
      "metadata": {
        "id": "CJZq9L1lWjR-"
      }
    },
    {
      "cell_type": "code",
      "source": [
        "lis_mult = [\"Mário\", (\"999.999.999\", \"9.999.999\"), {\"Aposentado\":9999, \"Aprovado\":10000}, 22.4]\n",
        "print(lis_mult)"
      ],
      "metadata": {
        "id": "Lqjh-D7WWniZ",
        "outputId": "d65e5f43-99c0-4e45-e01e-933546f4a21b",
        "colab": {
          "base_uri": "https://localhost:8080/"
        }
      },
      "execution_count": 136,
      "outputs": [
        {
          "output_type": "stream",
          "name": "stdout",
          "text": [
            "['Mário', ('999.999.999', '9.999.999'), {'Aposentado': 9999, 'Aprovado': 10000}, 22.4]\n"
          ]
        }
      ]
    },
    {
      "cell_type": "markdown",
      "source": [
        "### Exercício 10 - Considere a string abaixo. Imprima na tela apenas os caracteres da posição 1 a 18.\n",
        "\n",
        "frase = 'Cientista de Dados é o profissional mais sexy do século XXI'"
      ],
      "metadata": {
        "id": "XRQkT6XxXgRk"
      }
    },
    {
      "cell_type": "code",
      "source": [
        "frase = \"Cientista de Dados é o profissional mais sexy do século XXI\"\n",
        "frase[0:18]"
      ],
      "metadata": {
        "id": "Q67czsu1Xish",
        "outputId": "56ed3d57-f69e-4407-cbb3-f252917dde7b",
        "colab": {
          "base_uri": "https://localhost:8080/",
          "height": 35
        }
      },
      "execution_count": 141,
      "outputs": [
        {
          "output_type": "execute_result",
          "data": {
            "text/plain": [
              "'Cientista de Dados'"
            ],
            "application/vnd.google.colaboratory.intrinsic+json": {
              "type": "string"
            }
          },
          "metadata": {},
          "execution_count": 141
        }
      ]
    }
  ],
  "metadata": {
    "colab": {
      "collapsed_sections": [
        "J7CHnegCysih"
      ],
      "provenance": [],
      "authorship_tag": "ABX9TyPOuiUFMWDWyzZ1ASuCuRmq",
      "include_colab_link": true
    },
    "kernelspec": {
      "display_name": "Python 3",
      "name": "python3"
    },
    "language_info": {
      "name": "python"
    }
  },
  "nbformat": 4,
  "nbformat_minor": 0
}