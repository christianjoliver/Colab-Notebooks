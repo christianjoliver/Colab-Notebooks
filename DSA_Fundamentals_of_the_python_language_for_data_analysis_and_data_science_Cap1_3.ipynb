{
  "cells": [
    {
      "cell_type": "markdown",
      "metadata": {
        "id": "view-in-github",
        "colab_type": "text"
      },
      "source": [
        "<a href=\"https://colab.research.google.com/github/christianjoliver/Colab-Notebooks/blob/main/DSA_Fundamentals_of_the_python_language_for_data_analysis_and_data_science_Cap1_3.ipynb\" target=\"_parent\"><img src=\"https://colab.research.google.com/assets/colab-badge.svg\" alt=\"Open In Colab\"/></a>"
      ]
    },
    {
      "cell_type": "markdown",
      "metadata": {
        "id": "fLAvwaaAC9J9"
      },
      "source": [
        "#Parte introdutória do curso (Relembrando Python)\n",
        "\n"
      ]
    },
    {
      "cell_type": "markdown",
      "metadata": {
        "id": "XiMLxC_qEnd6"
      },
      "source": [
        "##Calculando área do paralelogramo"
      ]
    },
    {
      "cell_type": "markdown",
      "metadata": {
        "id": "HCaog6KHE2F8"
      },
      "source": [
        "1. Imprima \"Calculadora área do Paralelogramo\"\n",
        "2. Leia e armazene do usuário o comprimento da base\n",
        "3. Leia e armazene do usuário o comprimento da altura\n",
        "4. Imprima o cálculo da área do paralelogramo"
      ]
    },
    {
      "cell_type": "code",
      "execution_count": 25,
      "metadata": {
        "colab": {
          "base_uri": "https://localhost:8080/"
        },
        "id": "k9wUNN2C8f4W",
        "outputId": "590e558f-6f1b-449a-cb86-1c737e4e2f4e"
      },
      "outputs": [
        {
          "output_type": "stream",
          "name": "stdout",
          "text": [
            "Calculadora área do Paralelogramo\n",
            "Digite o comprimento da base: 4\n",
            "Digite o comprimento da altura: 4\n",
            "A área do paralelogramo é:  16.0\n"
          ]
        }
      ],
      "source": [
        "print(\"Calculadora área do Paralelogramo\")\n",
        "base = float(input(\"Digite o comprimento da base: \"))\n",
        "altura = float(input(\"Digite o comprimento da altura: \"))\n",
        "print(\"A área do paralelogramo é: \", base*altura)"
      ]
    },
    {
      "cell_type": "markdown",
      "metadata": {
        "id": "MedMzi63ElSw"
      },
      "source": [
        "## Calculadora simples"
      ]
    },
    {
      "cell_type": "markdown",
      "metadata": {
        "id": "7EUNNfXVFbLn"
      },
      "source": [
        "Início\n",
        "1. Imprima \"Calculadora Simples\"\n",
        "2. Leia e armazene do usuário o valor do primeiro número\n",
        "3. Leia e armazene do usuário o valor do segundo número\n",
        "4. Leia o sinal referente à operação que o usuário deseja realizar entre esses dois números\n",
        "5. Imprima o resultado da operação entre os dois números\n",
        "\n",
        "Fim"
      ]
    },
    {
      "cell_type": "code",
      "execution_count": 27,
      "metadata": {
        "colab": {
          "base_uri": "https://localhost:8080/"
        },
        "id": "ggKd5QRrEPr3",
        "outputId": "b1119d76-46a1-4afc-d00d-5108f6e977c6"
      },
      "outputs": [
        {
          "output_type": "stream",
          "name": "stdout",
          "text": [
            "Calculadora Simples\n",
            "Digite o Primeiro Número: 4\n",
            "Digite o Segundo Número: 44\n",
            "Digite a operação (+, -, /, *): /\n",
            "O resultado é:  0.09090909090909091\n"
          ]
        }
      ],
      "source": [
        "4print(\"Calculadora Simples\")\n",
        "n1 = float(input(\"Digite o Primeiro Número: \"))\n",
        "n2 = float(input(\"Digite o Segundo Número: \"))\n",
        "op = input(\"Digite a operação (+, -, /, *): \")\n",
        "\n",
        "if op == \"+\":\n",
        "    result = n1 + n2\n",
        "elif op == \"-\" :\n",
        "    result = n1 + n2\n",
        "elif op == \"*\":\n",
        "    result = n1*n2\n",
        "elif op == \"/\":\n",
        "    result = n1/n2\n",
        "\n",
        "print(\"O resultado é: \", result)"
      ]
    },
    {
      "cell_type": "markdown",
      "metadata": {
        "id": "RK7CtJXgKCdr"
      },
      "source": [
        "## Bubble Sort"
      ]
    },
    {
      "cell_type": "markdown",
      "metadata": {
        "id": "gmlktebOOZeC"
      },
      "source": [
        "Inicio\n",
        "\n",
        "    Para cada elemento i do array de tamanho n\n",
        "        Para cada elemento j do array de tamanho n-1\n",
        "            Se i > j:\n",
        "                troque i com j\n",
        "\n",
        "Fim"
      ]
    },
    {
      "cell_type": "code",
      "execution_count": 26,
      "metadata": {
        "colab": {
          "base_uri": "https://localhost:8080/"
        },
        "id": "y0BXc74jKFh1",
        "outputId": "f29d309a-4c97-477a-f0ca-82eb6c2772d8"
      },
      "outputs": [
        {
          "output_type": "stream",
          "name": "stdout",
          "text": [
            "[5, 5, 9, 1, 9, 1, 6, 5, 6, 9]\n",
            "[1, 1, 5, 5, 5, 6, 6, 9, 9, 9]\n"
          ]
        }
      ],
      "source": [
        "import random\n",
        "\n",
        "tam = 10\n",
        "\n",
        "# Gerando lista com números aleatórios num intervalo de 1 a 10\n",
        "lst_num = [random.randint(1, 10) for i in range(tam)]\n",
        "print(lst_num)\n",
        "\n",
        "# Funcao que executa o algoritmo BubbleSort\n",
        "def BubbleSort(arr):\n",
        "    for i in range(len(arr)):\n",
        "        for j in range(len(arr)-i-1):\n",
        "            if lst_num[j] > lst_num[j+1]:\n",
        "                lst_num[j], lst_num[j+1] = lst_num[j+1], lst_num[j]\n",
        "    return arr\n",
        "\n",
        "print(BubbleSort(lst_num))"
      ]
    },
    {
      "cell_type": "markdown",
      "metadata": {
        "id": "O9AklSDrwTIl"
      },
      "source": [
        "## Relembrando strings, listas e propriedades"
      ]
    },
    {
      "cell_type": "markdown",
      "metadata": {
        "id": "J7CHnegCysih"
      },
      "source": [
        "### Strings"
      ]
    },
    {
      "cell_type": "code",
      "execution_count": 3,
      "metadata": {
        "colab": {
          "base_uri": "https://localhost:8080/"
        },
        "id": "B-EMdEZdwSEy",
        "outputId": "a1285f38-d4c4-4bb2-c43a-9a4de3e5ed43"
      },
      "outputs": [
        {
          "output_type": "stream",
          "name": "stdout",
          "text": [
            "Aprender Python é Bacana\n"
          ]
        }
      ],
      "source": [
        "#indexação de strings\n",
        "\n",
        "s = \"Aprender Python é Bacana\"\n",
        "print(s)"
      ]
    },
    {
      "cell_type": "code",
      "execution_count": 4,
      "metadata": {
        "colab": {
          "base_uri": "https://localhost:8080/"
        },
        "id": "dnTXykwdwsfS",
        "outputId": "62c807ae-09bf-4241-fc23-b3c41bc9cc0d"
      },
      "outputs": [
        {
          "output_type": "stream",
          "name": "stdout",
          "text": [
            "Apr\n"
          ]
        }
      ],
      "source": [
        "print(s[:3]) #imprimindo sequência de caracteres até o index 3"
      ]
    },
    {
      "cell_type": "code",
      "execution_count": 5,
      "metadata": {
        "colab": {
          "base_uri": "https://localhost:8080/"
        },
        "id": "clx52CKkwxbK",
        "outputId": "2cd70b4e-a22a-41bc-e1b0-b6ddf16660cd"
      },
      "outputs": [
        {
          "output_type": "stream",
          "name": "stdout",
          "text": [
            "Aprender Python é Bacan\n"
          ]
        }
      ],
      "source": [
        "print(s[:-1]) #imprimindo caracteres até o index -1, ou seja o último caractere"
      ]
    },
    {
      "cell_type": "code",
      "execution_count": 6,
      "metadata": {
        "colab": {
          "base_uri": "https://localhost:8080/"
        },
        "id": "sCxNq-A9w3Ca",
        "outputId": "d6f3ecf9-75ee-47b7-e561-6c9e793fbc5c"
      },
      "outputs": [
        {
          "output_type": "stream",
          "name": "stdout",
          "text": [
            "AeePh Ba\n"
          ]
        }
      ],
      "source": [
        "print(s[::3]) #imprime 1 salta 2"
      ]
    },
    {
      "cell_type": "code",
      "execution_count": 7,
      "metadata": {
        "colab": {
          "base_uri": "https://localhost:8080/"
        },
        "id": "buxqP-28xLMp",
        "outputId": "6dd2e988-4692-446b-9753-646279363079"
      },
      "outputs": [
        {
          "output_type": "stream",
          "name": "stdout",
          "text": [
            "anacaB é nohtyP rednerpA\n"
          ]
        }
      ],
      "source": [
        "print(s[::-1]) #inverte a sequência de caracteres"
      ]
    },
    {
      "cell_type": "code",
      "execution_count": 8,
      "metadata": {
        "colab": {
          "base_uri": "https://localhost:8080/"
        },
        "id": "kpt7vB8vxZJb",
        "outputId": "ded63662-7daa-402d-dab7-a68a2d26c78b"
      },
      "outputs": [
        {
          "output_type": "stream",
          "name": "stdout",
          "text": [
            "nder Python é Bacana\n"
          ]
        }
      ],
      "source": [
        "print(s[4:]) #do quarto caractere pra frente"
      ]
    },
    {
      "cell_type": "markdown",
      "metadata": {
        "id": "7i7bHhQIyvLv"
      },
      "source": [
        "### Listas"
      ]
    },
    {
      "cell_type": "code",
      "execution_count": 9,
      "metadata": {
        "colab": {
          "base_uri": "https://localhost:8080/"
        },
        "id": "asM8i35MywlR",
        "outputId": "d49a3da8-1ef9-475a-e9e9-c93cb9471661"
      },
      "outputs": [
        {
          "output_type": "execute_result",
          "data": {
            "text/plain": [
              "['Cientista de Dados', 'Engenheiro de Dados']"
            ]
          },
          "metadata": {},
          "execution_count": 9
        }
      ],
      "source": [
        "lista = [\"Cientista de Dados\", \"Engenheiro de Dados\"]\n",
        "lista"
      ]
    },
    {
      "cell_type": "code",
      "execution_count": 10,
      "metadata": {
        "colab": {
          "base_uri": "https://localhost:8080/"
        },
        "id": "UytqNjIUy5Q2",
        "outputId": "3066234e-9bdc-4663-81c9-a5e02c5fa2dd"
      },
      "outputs": [
        {
          "output_type": "execute_result",
          "data": {
            "text/plain": [
              "['Cientista de Dados', 'Engenheiro de Dados', 'Analista de Dados']"
            ]
          },
          "metadata": {},
          "execution_count": 10
        }
      ],
      "source": [
        "lista.append(\"Analista de Dados\") #inserindo elementos em uma lista criada\n",
        "lista"
      ]
    },
    {
      "cell_type": "code",
      "execution_count": 11,
      "metadata": {
        "colab": {
          "base_uri": "https://localhost:8080/"
        },
        "id": "4R3fA5cXzBQO",
        "outputId": "140ac21d-1417-400c-b248-64a2db1eacb6"
      },
      "outputs": [
        {
          "output_type": "stream",
          "name": "stdout",
          "text": [
            "['Banana', 'Maçã', 'Jabuticaba', 'Pêra']\n",
            "['Banana', 'Maçã', 'Jabuticaba', 'Pêra', 'Jaca']\n",
            "['Banana', 'Jabuticaba', 'Pêra']\n"
          ]
        }
      ],
      "source": [
        "# Copiando elementos de uma lista na outra\n",
        "\n",
        "lst1 = [\"Banana\", \"Maçã\", \"Jabuticaba\", \"Pêra\"]\n",
        "lst2 = []\n",
        "\n",
        "for item in lst1:\n",
        "    lst2.append(item)\n",
        "\n",
        "print(lst2)\n",
        "\n",
        "lst2.append(\"Jaca\") #acrescentando \"Jaca\" na lista 2\n",
        "del lst1[1] #removendo Maçã da lista 1\n",
        "\n",
        "print(lst2)\n",
        "print(lst1)"
      ]
    },
    {
      "cell_type": "code",
      "execution_count": 12,
      "metadata": {
        "colab": {
          "base_uri": "https://localhost:8080/"
        },
        "id": "3og-ePPI0D7q",
        "outputId": "0af63ae9-0e83-4745-9344-16c46a1b3280"
      },
      "outputs": [
        {
          "output_type": "stream",
          "name": "stdout",
          "text": [
            "['Banana', 'Maçã', 'Jabuticaba', 'Pêra', 'Jaca', 'Kiwi', 'Jamelão']\n"
          ]
        }
      ],
      "source": [
        "# Inserindo vários elementos de uma só vez na lista\n",
        "\n",
        "lst2.extend([\"Kiwi\", \"Jamelão\"])\n",
        "print(lst2)"
      ]
    },
    {
      "cell_type": "code",
      "execution_count": 13,
      "metadata": {
        "colab": {
          "base_uri": "https://localhost:8080/"
        },
        "id": "gOkR6IbH0wrk",
        "outputId": "2b018ccf-9987-4db1-f7bd-941161108d56"
      },
      "outputs": [
        {
          "output_type": "execute_result",
          "data": {
            "text/plain": [
              "3"
            ]
          },
          "metadata": {},
          "execution_count": 13
        }
      ],
      "source": [
        "# Podemos também recuperar o índice referente a cada um dos elementos\n",
        "\n",
        "teste = lst2.index(\"Pêra\")\n",
        "teste"
      ]
    },
    {
      "cell_type": "code",
      "execution_count": 14,
      "metadata": {
        "colab": {
          "base_uri": "https://localhost:8080/"
        },
        "id": "FE_5xMFY1V8t",
        "outputId": "78778210-afb7-44b7-d560-985679c2dbb5"
      },
      "outputs": [
        {
          "output_type": "execute_result",
          "data": {
            "text/plain": [
              "['Banana', 'Maçã', 'Abacaxi', 'Jabuticaba', 'Pêra', 'Jaca', 'Kiwi', 'Jamelão']"
            ]
          },
          "metadata": {},
          "execution_count": 14
        }
      ],
      "source": [
        "# Podemos também inserir um elemento numa posição específica, assim \"empurrando os elementos à frente\"\n",
        "\n",
        "lst2.insert(2, \"Abacaxi\")\n",
        "lst2"
      ]
    },
    {
      "cell_type": "code",
      "execution_count": 15,
      "metadata": {
        "colab": {
          "base_uri": "https://localhost:8080/"
        },
        "id": "ZVutRBsV2JDu",
        "outputId": "e0d69240-1724-4aff-f623-dbdd1d76f2b0"
      },
      "outputs": [
        {
          "output_type": "execute_result",
          "data": {
            "text/plain": [
              "['Banana', 'Maçã', 'Jabuticaba', 'Pêra', 'Jaca', 'Kiwi', 'Jamelão']"
            ]
          },
          "metadata": {},
          "execution_count": 15
        }
      ],
      "source": [
        "# Podemos também removê-lo\n",
        "lst2.remove(\"Abacaxi\")\n",
        "lst2"
      ]
    },
    {
      "cell_type": "code",
      "execution_count": 16,
      "metadata": {
        "colab": {
          "base_uri": "https://localhost:8080/"
        },
        "id": "WtS1AykT2ZK9",
        "outputId": "06f6e1d5-05de-4d0d-c5e2-906f64d15ac4"
      },
      "outputs": [
        {
          "output_type": "execute_result",
          "data": {
            "text/plain": [
              "['Jamelão', 'Kiwi', 'Jaca', 'Pêra', 'Jabuticaba', 'Maçã', 'Banana']"
            ]
          },
          "metadata": {},
          "execution_count": 16
        }
      ],
      "source": [
        "# Podemos também inverter os elementos da lista\n",
        "lst2.reverse()\n",
        "lst2"
      ]
    },
    {
      "cell_type": "code",
      "source": [
        "# Podemos também ordenar os elementos da lista"
      ],
      "metadata": {
        "id": "ilsVF7ok5g9E"
      },
      "execution_count": 18,
      "outputs": []
    },
    {
      "cell_type": "code",
      "source": [
        "lst2.sort()\n",
        "lst2"
      ],
      "metadata": {
        "colab": {
          "base_uri": "https://localhost:8080/"
        },
        "id": "XuK537IE5qo8",
        "outputId": "e8d2f124-9afe-4423-e65e-7053634d4112"
      },
      "execution_count": 21,
      "outputs": [
        {
          "output_type": "execute_result",
          "data": {
            "text/plain": [
              "['Banana', 'Jabuticaba', 'Jaca', 'Jamelão', 'Kiwi', 'Maçã', 'Pêra']"
            ]
          },
          "metadata": {},
          "execution_count": 21
        }
      ]
    },
    {
      "cell_type": "markdown",
      "source": [
        "### Dicionários\n",
        "\n",
        "Os dicionários tem uma propriedade específica que \"amarra\" pares \"Chave x Valor\", por exemplo, no caso abaixo conseguimos amarrar a chave \"nome\" com o valor \"idade\""
      ],
      "metadata": {
        "id": "7NvsXNtp6WHT"
      }
    },
    {
      "cell_type": "code",
      "source": [
        "estudantes_dic = {\"Ana\": 25, \"Bruno\": 22, \"Carlos\":24, \"Daniel\":30}\n",
        "estudantes_dic"
      ],
      "metadata": {
        "colab": {
          "base_uri": "https://localhost:8080/"
        },
        "id": "EcIRUshz6XSw",
        "outputId": "9482c0fa-259b-4a25-9ddc-bbd20bfa6ba5"
      },
      "execution_count": 24,
      "outputs": [
        {
          "output_type": "execute_result",
          "data": {
            "text/plain": [
              "{'Ana': 25, 'Bruno': 22, 'Carlos': 24, 'Daniel': 30}"
            ]
          },
          "metadata": {},
          "execution_count": 24
        }
      ]
    },
    {
      "cell_type": "code",
      "source": [],
      "metadata": {
        "id": "6m7PfpcT6rXB"
      },
      "execution_count": null,
      "outputs": []
    }
  ],
  "metadata": {
    "colab": {
      "collapsed_sections": [
        "J7CHnegCysih"
      ],
      "provenance": [],
      "authorship_tag": "ABX9TyMjtR1tB4jKEkkYAOw2kYgt",
      "include_colab_link": true
    },
    "kernelspec": {
      "display_name": "Python 3",
      "name": "python3"
    },
    "language_info": {
      "name": "python"
    }
  },
  "nbformat": 4,
  "nbformat_minor": 0
}