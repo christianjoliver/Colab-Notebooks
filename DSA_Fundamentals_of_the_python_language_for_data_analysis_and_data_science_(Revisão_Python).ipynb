{
  "cells": [
    {
      "cell_type": "markdown",
      "metadata": {
        "id": "view-in-github",
        "colab_type": "text"
      },
      "source": [
        "<a href=\"https://colab.research.google.com/github/christianjoliver/Colab-Notebooks/blob/main/DSA_Fundamentals_of_the_python_language_for_data_analysis_and_data_science_(Revis%C3%A3o_Python).ipynb\" target=\"_parent\"><img src=\"https://colab.research.google.com/assets/colab-badge.svg\" alt=\"Open In Colab\"/></a>"
      ]
    },
    {
      "cell_type": "markdown",
      "metadata": {
        "id": "fLAvwaaAC9J9"
      },
      "source": [
        "#Parte introdutória do curso (Relembrando Python)\n",
        "\n"
      ]
    },
    {
      "cell_type": "markdown",
      "metadata": {
        "id": "XiMLxC_qEnd6"
      },
      "source": [
        "##Calculando área do paralelogramo"
      ]
    },
    {
      "cell_type": "markdown",
      "metadata": {
        "id": "HCaog6KHE2F8"
      },
      "source": [
        "1. Imprima \"Calculadora área do Paralelogramo\"\n",
        "2. Leia e armazene do usuário o comprimento da base\n",
        "3. Leia e armazene do usuário o comprimento da altura\n",
        "4. Imprima o cálculo da área do paralelogramo"
      ]
    },
    {
      "cell_type": "code",
      "execution_count": null,
      "metadata": {
        "colab": {
          "base_uri": "https://localhost:8080/"
        },
        "id": "k9wUNN2C8f4W",
        "outputId": "90ff17d5-4c55-4336-92d8-49f3ddc7f22d"
      },
      "outputs": [
        {
          "name": "stdout",
          "output_type": "stream",
          "text": [
            "Calculadora área do Paralelogramo\n",
            "Digite o comprimento da base: 2\n",
            "Digite o comprimento da altura: 4\n",
            "A área do paralelogramo é:  8\n"
          ]
        }
      ],
      "source": [
        "print(\"Calculadora área do Paralelogramo\")\n",
        "base = float(input(\"Digite o comprimento da base: \"))\n",
        "altura = float(input(\"Digite o comprimento da altura: \"))\n",
        "print(\"A área do paralelogramo é: \", base*altura)"
      ]
    },
    {
      "cell_type": "markdown",
      "metadata": {
        "id": "MedMzi63ElSw"
      },
      "source": [
        "## Calculadora simples"
      ]
    },
    {
      "cell_type": "markdown",
      "metadata": {
        "id": "7EUNNfXVFbLn"
      },
      "source": [
        "Início\n",
        "1. Imprima \"Calculadora Simples\"\n",
        "2. Leia e armazene do usuário o valor do primeiro número\n",
        "3. Leia e armazene do usuário o valor do segundo número\n",
        "4. Leia o sinal referente à operação que o usuário deseja realizar entre esses dois números\n",
        "5. Imprima o resultado da operação entre os dois números\n",
        "\n",
        "Fim"
      ]
    },
    {
      "cell_type": "code",
      "execution_count": null,
      "metadata": {
        "colab": {
          "base_uri": "https://localhost:8080/"
        },
        "id": "ggKd5QRrEPr3",
        "outputId": "91dfb911-3709-4717-e78c-74a695b6c157"
      },
      "outputs": [
        {
          "name": "stdout",
          "output_type": "stream",
          "text": [
            "Calculadora Simples\n",
            "Digite o Primeiro Número: 2\n",
            "Digite o Segundo Número: 2\n",
            "Digite a operação (+, -, /, *): +\n",
            "O resultado é:  4.0\n"
          ]
        }
      ],
      "source": [
        "print(\"Calculadora Simples\")\n",
        "n1 = float(input(\"Digite o Primeiro Número: \"))\n",
        "n2 = float(input(\"Digite o Segundo Número: \"))\n",
        "op = input(\"Digite a operação (+, -, /, *): \")\n",
        "\n",
        "if op == \"+\":\n",
        "    result = n1 + n2\n",
        "elif op == \"-\" :\n",
        "    result = n1 + n2\n",
        "elif op == \"*\":\n",
        "    result = n1*n2\n",
        "elif op == \"/\":\n",
        "    result = n1/n2\n",
        "\n",
        "print(\"O resultado é: \", result)"
      ]
    },
    {
      "cell_type": "markdown",
      "metadata": {
        "id": "RK7CtJXgKCdr"
      },
      "source": [
        "## Bubble Sort"
      ]
    },
    {
      "cell_type": "markdown",
      "metadata": {
        "id": "gmlktebOOZeC"
      },
      "source": [
        "Inicio\n",
        "\n",
        "    Para cada elemento i do array de tamanho n\n",
        "        Para cada elemento j do array de tamanho n-1\n",
        "            Se i > j:\n",
        "                troque i com j\n",
        "\n",
        "Fim"
      ]
    },
    {
      "cell_type": "code",
      "execution_count": null,
      "metadata": {
        "colab": {
          "base_uri": "https://localhost:8080/"
        },
        "id": "y0BXc74jKFh1",
        "outputId": "1fae2a49-0d30-4da0-faf1-f4fca3669c51"
      },
      "outputs": [
        {
          "name": "stdout",
          "output_type": "stream",
          "text": [
            "[10, 7, 7, 7, 7, 5, 4, 5, 1, 10]\n",
            "[1, 4, 5, 5, 7, 7, 7, 7, 10, 10]\n"
          ]
        }
      ],
      "source": [
        "import random\n",
        "\n",
        "tam = 10\n",
        "\n",
        "# Gerando lista com números aleatórios num intervalo de 1 a 10\n",
        "lst_num = [random.randint(1, 10) for i in range(tam)]\n",
        "print(lst_num)\n",
        "\n",
        "# Funcao que executa o algoritmo BubbleSort\n",
        "def BubbleSort(arr):\n",
        "    for i in range(len(arr)):\n",
        "        for j in range(len(arr)-i-1):\n",
        "            if lst_num[j] > lst_num[j+1]:\n",
        "                lst_num[j], lst_num[j+1] = lst_num[j+1], lst_num[j]\n",
        "    return arr\n",
        "\n",
        "print(BubbleSort(lst_num))"
      ]
    },
    {
      "cell_type": "markdown",
      "metadata": {
        "id": "O9AklSDrwTIl"
      },
      "source": [
        "## Relembrando strings, listas e propriedades"
      ]
    },
    {
      "cell_type": "markdown",
      "metadata": {
        "id": "J7CHnegCysih"
      },
      "source": [
        "### Strings"
      ]
    },
    {
      "cell_type": "code",
      "execution_count": null,
      "metadata": {
        "colab": {
          "base_uri": "https://localhost:8080/"
        },
        "id": "B-EMdEZdwSEy",
        "outputId": "f5f36b76-af8d-40ac-8ec5-e297ced51e37"
      },
      "outputs": [
        {
          "name": "stdout",
          "output_type": "stream",
          "text": [
            "Aprender Python é Bacana\n"
          ]
        }
      ],
      "source": [
        "#indexação de strings\n",
        "\n",
        "s = \"Aprender Python é Bacana\"\n",
        "print(s)"
      ]
    },
    {
      "cell_type": "code",
      "execution_count": null,
      "metadata": {
        "colab": {
          "base_uri": "https://localhost:8080/"
        },
        "id": "dnTXykwdwsfS",
        "outputId": "195c9325-24f9-461f-b0d7-7ab892e81248"
      },
      "outputs": [
        {
          "name": "stdout",
          "output_type": "stream",
          "text": [
            "Apr\n"
          ]
        }
      ],
      "source": [
        "print(s[:3]) #imprimindo sequência de caracteres até o index 3"
      ]
    },
    {
      "cell_type": "code",
      "execution_count": null,
      "metadata": {
        "colab": {
          "base_uri": "https://localhost:8080/"
        },
        "id": "clx52CKkwxbK",
        "outputId": "03433923-79c4-4c2f-e787-145d868bd00c"
      },
      "outputs": [
        {
          "name": "stdout",
          "output_type": "stream",
          "text": [
            "Aprender Python é Bacan\n"
          ]
        }
      ],
      "source": [
        "print(s[:-1]) #imprimindo caracteres até o index -1, ou seja o último caractere"
      ]
    },
    {
      "cell_type": "code",
      "execution_count": null,
      "metadata": {
        "colab": {
          "base_uri": "https://localhost:8080/"
        },
        "id": "sCxNq-A9w3Ca",
        "outputId": "f3bc8251-dd3a-4af8-be64-fdf7b9291ec5"
      },
      "outputs": [
        {
          "name": "stdout",
          "output_type": "stream",
          "text": [
            "An héc\n"
          ]
        }
      ],
      "source": [
        "print(s[::3]) #imprime 1 salta 2"
      ]
    },
    {
      "cell_type": "code",
      "execution_count": null,
      "metadata": {
        "colab": {
          "base_uri": "https://localhost:8080/"
        },
        "id": "buxqP-28xLMp",
        "outputId": "2250bc3a-9c79-4092-c47b-290f73f640c3"
      },
      "outputs": [
        {
          "name": "stdout",
          "output_type": "stream",
          "text": [
            "anacaB é nohtyP rednerpA\n"
          ]
        }
      ],
      "source": [
        "print(s[::-1]) #inverte a sequência de caracteres"
      ]
    },
    {
      "cell_type": "code",
      "execution_count": null,
      "metadata": {
        "colab": {
          "base_uri": "https://localhost:8080/"
        },
        "id": "kpt7vB8vxZJb",
        "outputId": "38aa0e04-94d8-4e5c-ed05-9c7cb7b021a6"
      },
      "outputs": [
        {
          "name": "stdout",
          "output_type": "stream",
          "text": [
            "nder Python é Bacana\n"
          ]
        }
      ],
      "source": [
        "print(s[4:]) #do quarto caractere pra frente"
      ]
    },
    {
      "cell_type": "markdown",
      "metadata": {
        "id": "7i7bHhQIyvLv"
      },
      "source": [
        "### Listas"
      ]
    },
    {
      "cell_type": "code",
      "execution_count": null,
      "metadata": {
        "colab": {
          "base_uri": "https://localhost:8080/"
        },
        "id": "asM8i35MywlR",
        "outputId": "6914b1ce-04c2-4e10-e5a5-0e147e584c77"
      },
      "outputs": [
        {
          "data": {
            "text/plain": [
              "['Cientista de Dados', 'Engenheiro de Dados']"
            ]
          },
          "execution_count": 38,
          "metadata": {},
          "output_type": "execute_result"
        }
      ],
      "source": [
        "lista = [\"Cientista de Dados\", \"Engenheiro de Dados\"]\n",
        "lista"
      ]
    },
    {
      "cell_type": "code",
      "execution_count": null,
      "metadata": {
        "colab": {
          "base_uri": "https://localhost:8080/"
        },
        "id": "UytqNjIUy5Q2",
        "outputId": "2bff52d3-24ae-47a5-a690-4d4a900398ac"
      },
      "outputs": [
        {
          "data": {
            "text/plain": [
              "['Cientista de Dados', 'Engenheiro de Dados', 'Analista de Dados']"
            ]
          },
          "execution_count": 39,
          "metadata": {},
          "output_type": "execute_result"
        }
      ],
      "source": [
        "lista.append(\"Analista de Dados\") #inserindo elementos em uma lista criada\n",
        "lista"
      ]
    },
    {
      "cell_type": "code",
      "execution_count": null,
      "metadata": {
        "colab": {
          "base_uri": "https://localhost:8080/"
        },
        "id": "4R3fA5cXzBQO",
        "outputId": "46bb7966-9425-4f95-bb3f-39922c5f601b"
      },
      "outputs": [
        {
          "name": "stdout",
          "output_type": "stream",
          "text": [
            "['Banana', 'Maçã', 'Jabuticaba', 'Pêra']\n",
            "['Banana', 'Maçã', 'Jabuticaba', 'Pêra', 'Jaca']\n",
            "['Banana', 'Jabuticaba', 'Pêra']\n"
          ]
        }
      ],
      "source": [
        "# Copiando elementos de uma lista na outra\n",
        "\n",
        "lst1 = [\"Banana\", \"Maçã\", \"Jabuticaba\", \"Pêra\"]\n",
        "lst2 = []\n",
        "\n",
        "for item in lst1:\n",
        "    lst2.append(item)\n",
        "\n",
        "print(lst2)\n",
        "\n",
        "lst2.append(\"Jaca\") #acrescentando \"Jaca\" na lista 2\n",
        "del lst1[1] #removendo Maçã da lista 1\n",
        "\n",
        "print(lst2)\n",
        "print(lst1)"
      ]
    },
    {
      "cell_type": "code",
      "execution_count": null,
      "metadata": {
        "colab": {
          "base_uri": "https://localhost:8080/",
          "height": 53
        },
        "id": "3og-ePPI0D7q",
        "outputId": "61c7ea43-9d3d-41b7-96e9-d1cbbee5a7cd"
      },
      "outputs": [
        {
          "name": "stdout",
          "output_type": "stream",
          "text": [
            "['Banana', 'Maçã', 'Jabuticaba', 'Pêra', 'Jaca', 'Kiwi', 'Jamelão', 'Kiwi', 'Jamelão']\n"
          ]
        },
        {
          "data": {
            "application/vnd.google.colaboratory.intrinsic+json": {
              "type": "string"
            },
            "text/plain": [
              "'Pêra'"
            ]
          },
          "execution_count": 47,
          "metadata": {},
          "output_type": "execute_result"
        }
      ],
      "source": [
        "# Inserindo vários elementos de uma só vez na lista\n",
        "\n",
        "lst2.extend([\"Kiwi\", \"Jamelão\"])\n",
        "print(lst2)"
      ]
    },
    {
      "cell_type": "code",
      "execution_count": null,
      "metadata": {
        "colab": {
          "base_uri": "https://localhost:8080/"
        },
        "id": "gOkR6IbH0wrk",
        "outputId": "5681d855-207d-43d2-9846-46265e78dc00"
      },
      "outputs": [
        {
          "data": {
            "text/plain": [
              "3"
            ]
          },
          "execution_count": 53,
          "metadata": {},
          "output_type": "execute_result"
        }
      ],
      "source": [
        "# Podemos também recuperar o índice referente a cada um dos elementos\n",
        "\n",
        "teste = lst2.index(\"Pêra\")\n",
        "teste"
      ]
    },
    {
      "cell_type": "code",
      "execution_count": null,
      "metadata": {
        "colab": {
          "base_uri": "https://localhost:8080/"
        },
        "id": "FE_5xMFY1V8t",
        "outputId": "4de69cb5-c5ed-4959-d27f-938adb58c503"
      },
      "outputs": [
        {
          "data": {
            "text/plain": [
              "['Banana',\n",
              " 'Maçã',\n",
              " 'Abacaxi',\n",
              " 'Jabuticaba',\n",
              " 'Pêra',\n",
              " 'Jaca',\n",
              " 'Kiwi',\n",
              " 'Jamelão',\n",
              " 'Kiwi',\n",
              " 'Jamelão']"
            ]
          },
          "execution_count": 57,
          "metadata": {},
          "output_type": "execute_result"
        }
      ],
      "source": [
        "# Podemos também inserir um elemento numa posição específica, assim \"empurrando os elementos à frente\"\n",
        "\n",
        "lst2.insert(2, \"Abacaxi\")\n",
        "lst2"
      ]
    },
    {
      "cell_type": "code",
      "execution_count": null,
      "metadata": {
        "colab": {
          "base_uri": "https://localhost:8080/"
        },
        "id": "ZVutRBsV2JDu",
        "outputId": "9498b280-abce-44e5-9895-dbd778e5610c"
      },
      "outputs": [
        {
          "data": {
            "text/plain": [
              "['Banana',\n",
              " 'Maçã',\n",
              " 'Jabuticaba',\n",
              " 'Pêra',\n",
              " 'Jaca',\n",
              " 'Kiwi',\n",
              " 'Jamelão',\n",
              " 'Kiwi',\n",
              " 'Jamelão']"
            ]
          },
          "execution_count": 58,
          "metadata": {},
          "output_type": "execute_result"
        }
      ],
      "source": [
        "# Podemos também removê-lo\n",
        "lst2.remove(\"Abacaxi\")\n",
        "lst2"
      ]
    },
    {
      "cell_type": "code",
      "execution_count": 65,
      "metadata": {
        "colab": {
          "base_uri": "https://localhost:8080/"
        },
        "id": "WtS1AykT2ZK9",
        "outputId": "42de0dad-c16b-4ffd-8ff9-ab5f036ba3a8"
      },
      "outputs": [
        {
          "output_type": "execute_result",
          "data": {
            "text/plain": [
              "['Jamelão',\n",
              " 'Kiwi',\n",
              " 'Jamelão',\n",
              " 'Kiwi',\n",
              " 'Jaca',\n",
              " 'Pêra',\n",
              " 'Jabuticaba',\n",
              " 'Maçã',\n",
              " 'Banana']"
            ]
          },
          "metadata": {},
          "execution_count": 65
        }
      ],
      "source": [
        "# Podemos também inverter os elementos da lista\n",
        "lst2.reverse()\n",
        "lst2"
      ]
    },
    {
      "cell_type": "code",
      "execution_count": null,
      "metadata": {
        "id": "ClP-TjvJ28z-"
      },
      "outputs": [],
      "source": []
    }
  ],
  "metadata": {
    "colab": {
      "collapsed_sections": [
        "J7CHnegCysih"
      ],
      "provenance": [],
      "authorship_tag": "ABX9TyOOuzBdnlmJqQbdLkPzApZQ",
      "include_colab_link": true
    },
    "kernelspec": {
      "display_name": "Python 3",
      "name": "python3"
    },
    "language_info": {
      "name": "python"
    }
  },
  "nbformat": 4,
  "nbformat_minor": 0
}